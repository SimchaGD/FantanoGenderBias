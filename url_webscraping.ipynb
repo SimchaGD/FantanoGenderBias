{
 "cells": [
  {
   "cell_type": "markdown",
   "metadata": {},
   "source": [
    "# Importing modules"
   ]
  },
  {
   "cell_type": "code",
   "execution_count": 1,
   "metadata": {
    "execution": {
     "iopub.execute_input": "2020-05-24T13:07:37.308316Z",
     "iopub.status.busy": "2020-05-24T13:07:37.307316Z",
     "iopub.status.idle": "2020-05-24T13:07:38.477003Z",
     "shell.execute_reply": "2020-05-24T13:07:38.475004Z",
     "shell.execute_reply.started": "2020-05-24T13:07:37.308316Z"
    }
   },
   "outputs": [],
   "source": [
    "import requests\n",
    "import urllib.request\n",
    "import time\n",
    "from bs4 import BeautifulSoup\n",
    "import pandas as pd\n",
    "import os\n",
    "from tqdm import tqdm_notebook as tqdm\n",
    "import numpy as np\n",
    "import string\n",
    "\n",
    "dir_path = os.getcwd()"
   ]
  },
  {
   "cell_type": "markdown",
   "metadata": {},
   "source": [
    "# Scraping urls and video_ids"
   ]
  },
  {
   "cell_type": "code",
   "execution_count": null,
   "metadata": {},
   "outputs": [],
   "source": [
    "# Retrieve all partij urls\n",
    "videos = [\"/watch?v=0vFTfoOavRM&list=UUt7fwAhXDy3oNFTAzF2o8Pw&index=1\"]\n",
    "index = [\"ex=1\"]\n",
    "title = [\"Perfume Genius - Set My Heart on Fire Immediately ALBUM REVIEW\"]\n",
    "\n",
    "while len(videos) < 3238:\n",
    "    response = requests.get(base_url + videos[-1])\n",
    "    soup = BeautifulSoup(response.text, \"html.parser\")\n",
    "    next_video = soup.find_all('a',  {\"class\": \"spf-link playlist-video clearfix yt-uix-sessionlink spf-link\"})\n",
    "    for nv in next_video:\n",
    "        if nv[\"href\"][-4:] not in index:\n",
    "            videos.append(nv[\"href\"])\n",
    "            index.append(nv[\"href\"][-4:])\n",
    "            title.append(nv.find(\"h4\").text.split(\"\\n\")[1].replace(\"  \", \"\"))\n",
    "    \n",
    "            \n",
    "    print(len(videos), end=\"\\r\")"
   ]
  },
  {
   "cell_type": "code",
   "execution_count": null,
   "metadata": {},
   "outputs": [],
   "source": [
    "df_url = pd.DataFrame(columns = [\"url\", \"id\", \"title\"])\n",
    "df_url.url = videos\n",
    "df_url.id = df_url.url.str.split(\"&\").apply(lambda x: x[0].replace(\"/watch?v=\", \"\"))\n",
    "df_url.title = title\n",
    "df_url.to_csv(\"urls.csv\", index = None, sep = \";\")"
   ]
  },
  {
   "cell_type": "code",
   "execution_count": 99,
   "metadata": {
    "execution": {
     "iopub.execute_input": "2020-05-24T14:47:33.976301Z",
     "iopub.status.busy": "2020-05-24T14:47:33.976301Z",
     "iopub.status.idle": "2020-05-24T14:47:34.058253Z",
     "shell.execute_reply": "2020-05-24T14:47:34.057253Z",
     "shell.execute_reply.started": "2020-05-24T14:47:33.976301Z"
    }
   },
   "outputs": [],
   "source": [
    "df_url = pd.read_csv(\"urls.csv\", sep = \";\")\n",
    "df_url.title = df_url.title.str.lower()\n",
    "\n",
    "filter1 = df_url.title.str.contains(\"review\")\n",
    "filter2 = df_url.title.str.contains(\"-\")\n",
    "df_title = df_url.loc[(filter1 & filter2), [\"id\", \"title\"]]\n",
    "df_title.title = df_title.title.str.replace(\"album\", \"\")\n",
    "df_title.title = df_title.title.str.replace(\"review\", \"\")\n",
    "\n",
    "filter3 = df_url.title.str.contains(\"not good\")\n",
    "df_notgood = df_url.loc[filter3, [\"id\", \"title\"]]\n",
    "df_notgood.title = df_notgood.title.str.replace(\"not good\", \"\")\n",
    "df_notgood.title = df_notgood.title.str.replace(\": \", \"\")"
   ]
  },
  {
   "cell_type": "code",
   "execution_count": 76,
   "metadata": {
    "execution": {
     "iopub.execute_input": "2020-05-24T14:30:43.786717Z",
     "iopub.status.busy": "2020-05-24T14:30:43.785717Z",
     "iopub.status.idle": "2020-05-24T14:30:43.832691Z",
     "shell.execute_reply": "2020-05-24T14:30:43.830692Z",
     "shell.execute_reply.started": "2020-05-24T14:30:43.786717Z"
    }
   },
   "outputs": [],
   "source": [
    "df_artist_album = pd.DataFrame(columns = [\"id\", \"artist\", \"album\"])\n",
    "df_artist_album.id = df_title.id\n",
    "df_artist_album.artist = df_title.title.str.split(\"-\").apply(lambda x: x[0]).str.strip()\n",
    "df_artist_album.album = df_title.title.str.split(\"-\").apply(lambda x: x[-1]).str.strip()"
   ]
  },
  {
   "cell_type": "code",
   "execution_count": 110,
   "metadata": {
    "execution": {
     "iopub.execute_input": "2020-05-24T14:50:23.144595Z",
     "iopub.status.busy": "2020-05-24T14:50:23.144595Z",
     "iopub.status.idle": "2020-05-24T14:50:23.167581Z",
     "shell.execute_reply": "2020-05-24T14:50:23.166582Z",
     "shell.execute_reply.started": "2020-05-24T14:50:23.144595Z"
    }
   },
   "outputs": [],
   "source": [
    "df_notgood_artist_album =  pd.DataFrame(columns = [\"id\", \"artist\", \"album\"])\n",
    "df_notgood_artist_album.id = df_notgood.id\n",
    "df_notgood_artist_album.artist = df_notgood.title.str.split(\"'s\").apply(lambda x: x[0]).str.strip()\n",
    "df_notgood_artist_album.album = df_notgood.title.str.split(\"'s\").apply(lambda x: x[-1]).str.strip()\n",
    "df_artist_album = df_artist_album.append(df_notgood_artist_album).sort_index()"
   ]
  },
  {
   "cell_type": "code",
   "execution_count": 111,
   "metadata": {
    "execution": {
     "iopub.execute_input": "2020-05-24T14:50:27.819280Z",
     "iopub.status.busy": "2020-05-24T14:50:27.818280Z",
     "iopub.status.idle": "2020-05-24T14:50:27.844265Z",
     "shell.execute_reply": "2020-05-24T14:50:27.843269Z",
     "shell.execute_reply.started": "2020-05-24T14:50:27.819280Z"
    }
   },
   "outputs": [],
   "source": [
    "df_artist_album.to_csv(\"albums.csv\", index = False, sep = \";\")"
   ]
  },
  {
   "cell_type": "code",
   "execution_count": null,
   "metadata": {},
   "outputs": [],
   "source": []
  }
 ],
 "metadata": {
  "kernelspec": {
   "display_name": "Python 3",
   "language": "python",
   "name": "python3"
  },
  "language_info": {
   "codemirror_mode": {
    "name": "ipython",
    "version": 3
   },
   "file_extension": ".py",
   "mimetype": "text/x-python",
   "name": "python",
   "nbconvert_exporter": "python",
   "pygments_lexer": "ipython3",
   "version": "3.8.2"
  }
 },
 "nbformat": 4,
 "nbformat_minor": 4
}
