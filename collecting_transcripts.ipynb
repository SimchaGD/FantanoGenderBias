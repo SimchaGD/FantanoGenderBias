{
 "cells": [
  {
   "cell_type": "markdown",
   "metadata": {},
   "source": [
    "# Importing modules"
   ]
  },
  {
   "cell_type": "code",
   "execution_count": 4,
   "metadata": {
    "execution": {
     "iopub.execute_input": "2020-05-24T12:48:40.118777Z",
     "iopub.status.busy": "2020-05-24T12:48:40.118777Z",
     "iopub.status.idle": "2020-05-24T12:48:40.125773Z",
     "shell.execute_reply": "2020-05-24T12:48:40.124774Z",
     "shell.execute_reply.started": "2020-05-24T12:48:40.118777Z"
    }
   },
   "outputs": [],
   "source": [
    "import requests\n",
    "import urllib.request\n",
    "import time\n",
    "from bs4 import BeautifulSoup\n",
    "import pandas as pd\n",
    "import os\n",
    "from tqdm import tqdm_notebook as tqdm\n",
    "import numpy as np\n",
    "import string\n",
    "\n",
    "dir_path = os.getcwd()"
   ]
  },
  {
   "cell_type": "code",
   "execution_count": 5,
   "metadata": {
    "execution": {
     "iopub.execute_input": "2020-05-24T12:48:40.605498Z",
     "iopub.status.busy": "2020-05-24T12:48:40.605498Z",
     "iopub.status.idle": "2020-05-24T12:48:40.645475Z",
     "shell.execute_reply": "2020-05-24T12:48:40.644477Z",
     "shell.execute_reply.started": "2020-05-24T12:48:40.605498Z"
    }
   },
   "outputs": [
    {
     "data": {
      "text/html": [
       "<div>\n",
       "<style scoped>\n",
       "    .dataframe tbody tr th:only-of-type {\n",
       "        vertical-align: middle;\n",
       "    }\n",
       "\n",
       "    .dataframe tbody tr th {\n",
       "        vertical-align: top;\n",
       "    }\n",
       "\n",
       "    .dataframe thead th {\n",
       "        text-align: right;\n",
       "    }\n",
       "</style>\n",
       "<table border=\"1\" class=\"dataframe\">\n",
       "  <thead>\n",
       "    <tr style=\"text-align: right;\">\n",
       "      <th></th>\n",
       "      <th>url</th>\n",
       "      <th>id</th>\n",
       "      <th>title</th>\n",
       "    </tr>\n",
       "  </thead>\n",
       "  <tbody>\n",
       "    <tr>\n",
       "      <th>0</th>\n",
       "      <td>/watch?v=0vFTfoOavRM&amp;list=UUt7fwAhXDy3oNFTAzF2...</td>\n",
       "      <td>0vFTfoOavRM</td>\n",
       "      <td>Perfume Genius - Set My Heart on Fire Immediat...</td>\n",
       "    </tr>\n",
       "    <tr>\n",
       "      <th>1</th>\n",
       "      <td>/watch?v=nwJ88RCBcfE&amp;list=UUt7fwAhXDy3oNFTAzF2...</td>\n",
       "      <td>nwJ88RCBcfE</td>\n",
       "      <td>Moses Sumney - græ ALBUM REVIEW</td>\n",
       "    </tr>\n",
       "    <tr>\n",
       "      <th>2</th>\n",
       "      <td>/watch?v=4uNlwM0ZfY8&amp;list=UUt7fwAhXDy3oNFTAzF2...</td>\n",
       "      <td>4uNlwM0ZfY8</td>\n",
       "      <td>Yung Lean - Starz ALBUM REVIEW</td>\n",
       "    </tr>\n",
       "    <tr>\n",
       "      <th>3</th>\n",
       "      <td>/watch?v=HRZcBNjlPQI&amp;list=UUt7fwAhXDy3oNFTAzF2...</td>\n",
       "      <td>HRZcBNjlPQI</td>\n",
       "      <td>Charli XCX - how i'm feeling now ALBUM REVIEW</td>\n",
       "    </tr>\n",
       "    <tr>\n",
       "      <th>4</th>\n",
       "      <td>/watch?v=LqBsfpdHXX0&amp;list=UUt7fwAhXDy3oNFTAzF2...</td>\n",
       "      <td>LqBsfpdHXX0</td>\n",
       "      <td>Future - High Off Life ALBUM REVIEW</td>\n",
       "    </tr>\n",
       "  </tbody>\n",
       "</table>\n",
       "</div>"
      ],
      "text/plain": [
       "                                                 url           id  \\\n",
       "0  /watch?v=0vFTfoOavRM&list=UUt7fwAhXDy3oNFTAzF2...  0vFTfoOavRM   \n",
       "1  /watch?v=nwJ88RCBcfE&list=UUt7fwAhXDy3oNFTAzF2...  nwJ88RCBcfE   \n",
       "2  /watch?v=4uNlwM0ZfY8&list=UUt7fwAhXDy3oNFTAzF2...  4uNlwM0ZfY8   \n",
       "3  /watch?v=HRZcBNjlPQI&list=UUt7fwAhXDy3oNFTAzF2...  HRZcBNjlPQI   \n",
       "4  /watch?v=LqBsfpdHXX0&list=UUt7fwAhXDy3oNFTAzF2...  LqBsfpdHXX0   \n",
       "\n",
       "                                               title  \n",
       "0  Perfume Genius - Set My Heart on Fire Immediat...  \n",
       "1                    Moses Sumney - græ ALBUM REVIEW  \n",
       "2                     Yung Lean - Starz ALBUM REVIEW  \n",
       "3      Charli XCX - how i'm feeling now ALBUM REVIEW  \n",
       "4                Future - High Off Life ALBUM REVIEW  "
      ]
     },
     "execution_count": 5,
     "metadata": {},
     "output_type": "execute_result"
    }
   ],
   "source": [
    "base_url = 'https://www.youtube.com'\n",
    "df_url = pd.read_csv(\"urls.csv\")\n",
    "df_url.head()"
   ]
  },
  {
   "cell_type": "markdown",
   "metadata": {},
   "source": [
    "# Collecting transcripts"
   ]
  },
  {
   "cell_type": "code",
   "execution_count": 6,
   "metadata": {
    "execution": {
     "iopub.execute_input": "2020-05-24T12:48:46.321476Z",
     "iopub.status.busy": "2020-05-24T12:48:46.320479Z",
     "iopub.status.idle": "2020-05-24T12:48:46.343464Z",
     "shell.execute_reply": "2020-05-24T12:48:46.342468Z",
     "shell.execute_reply.started": "2020-05-24T12:48:46.321476Z"
    }
   },
   "outputs": [],
   "source": [
    "from youtube_transcript_api import YouTubeTranscriptApi\n",
    "from youtube_transcript_api._errors import CouldNotRetrieveTranscript, NoTranscriptAvailable, TranscriptsDisabled\n",
    "errors = (CouldNotRetrieveTranscript, NoTranscriptAvailable, TranscriptsDisabled)"
   ]
  },
  {
   "cell_type": "code",
   "execution_count": 11,
   "metadata": {
    "execution": {
     "iopub.execute_input": "2020-05-24T12:51:58.941916Z",
     "iopub.status.busy": "2020-05-24T12:51:58.940918Z",
     "iopub.status.idle": "2020-05-24T12:51:58.957908Z",
     "shell.execute_reply": "2020-05-24T12:51:58.956909Z",
     "shell.execute_reply.started": "2020-05-24T12:51:58.941916Z"
    }
   },
   "outputs": [],
   "source": [
    "df_transcripts = pd.DataFrame(columns = [\"id\", \"full_transcript\"])\n",
    "df_transcripts.id = df_url.id"
   ]
  },
  {
   "cell_type": "code",
   "execution_count": null,
   "metadata": {},
   "outputs": [],
   "source": [
    "pbar = tqdm(total = len(df_url.id))\n",
    "breaks = 0\n",
    "\n",
    "for count, ids in enumerate(df_url.id):\n",
    "    try:\n",
    "        full_text = \"\"\n",
    "        for line in YouTubeTranscriptApi.get_transcript(ids):\n",
    "            full_text += line[\"text\"] + \" \"\n",
    "        df_transcripts.full_transcript[count] = full_text\n",
    "    except errors:\n",
    "        df_transcripts.full_transcript[count] = \"\"\n",
    "    pbar.update()\n",
    "    if count % 100 == 99:\n",
    "        df_transcripts.to_csv(\"transcripts/transcripts_{}.csv\".format(breaks), index = False)\n",
    "        df_transcripts = pd.DataFrame(columns = [\"id\", \"full_transcript\"])\n",
    "        df_transcripts.id = df_url.id\n",
    "        breaks += 1\n",
    "        \n",
    "pbar.close()\n",
    "df_transcripts.head()"
   ]
  },
  {
   "cell_type": "markdown",
   "metadata": {},
   "source": [
    "# Merging all transcripts"
   ]
  },
  {
   "cell_type": "code",
   "execution_count": 18,
   "metadata": {
    "execution": {
     "iopub.execute_input": "2020-05-24T13:35:15.105734Z",
     "iopub.status.busy": "2020-05-24T13:35:15.104742Z",
     "iopub.status.idle": "2020-05-24T13:35:16.039886Z",
     "shell.execute_reply": "2020-05-24T13:35:16.038888Z",
     "shell.execute_reply.started": "2020-05-24T13:35:15.105734Z"
    }
   },
   "outputs": [
    {
     "name": "stderr",
     "output_type": "stream",
     "text": [
      "<ipython-input-18-a6d51f39dd97>:10: TqdmDeprecationWarning: This function will be removed in tqdm==5.0.0\n",
      "Please use `tqdm.notebook.tqdm` instead of `tqdm.tqdm_notebook`\n",
      "  pbar = tqdm(total = len(transcripts))\n"
     ]
    },
    {
     "data": {
      "application/vnd.jupyter.widget-view+json": {
       "model_id": "a0eb6da84934458485e7017475c9c196",
       "version_major": 2,
       "version_minor": 0
      },
      "text/plain": [
       "HBox(children=(FloatProgress(value=0.0, max=32.0), HTML(value='')))"
      ]
     },
     "metadata": {},
     "output_type": "display_data"
    },
    {
     "name": "stdout",
     "output_type": "stream",
     "text": [
      "\n"
     ]
    }
   ],
   "source": [
    "from os import listdir, makedirs\n",
    "from os.path import isfile, join, exists\n",
    "\n",
    "if not exists(\"transcripts\"):\n",
    "    makedirs(\"transcripts\")\n",
    "\n",
    "transcript_path = join(dir_path, \"transcripts\")\n",
    "transcripts = [pd.read_csv(join(transcript_path, f)) for f in listdir(transcript_path) if isfile(join(transcript_path, f))]\n",
    "df_transcripts = transcripts[0]\n",
    "pbar = tqdm(total = len(transcripts))\n",
    "for i, transcript in enumerate(transcripts):\n",
    "    if i == 0:\n",
    "        pbar.update()\n",
    "        continue\n",
    "    #df_transcripts = pd.merge(df_transcripts, transcript, left_index = True, right_index = True, on=\"id\")\n",
    "    df_transcripts = df_transcripts.append(transcript, sort = False)\n",
    "    pbar.update()\n",
    "pbar.close()"
   ]
  },
  {
   "cell_type": "code",
   "execution_count": 20,
   "metadata": {
    "execution": {
     "iopub.execute_input": "2020-05-24T14:01:33.190302Z",
     "iopub.status.busy": "2020-05-24T14:01:33.187303Z",
     "iopub.status.idle": "2020-05-24T14:01:35.111885Z",
     "shell.execute_reply": "2020-05-24T14:01:35.109885Z",
     "shell.execute_reply.started": "2020-05-24T14:01:33.190302Z"
    }
   },
   "outputs": [],
   "source": [
    "df_transcripts.to_csv(\"full_transcripts.csv\", index = False, sep = \";\")"
   ]
  },
  {
   "cell_type": "code",
   "execution_count": null,
   "metadata": {},
   "outputs": [],
   "source": []
  }
 ],
 "metadata": {
  "kernelspec": {
   "display_name": "Python 3",
   "language": "python",
   "name": "python3"
  },
  "language_info": {
   "codemirror_mode": {
    "name": "ipython",
    "version": 3
   },
   "file_extension": ".py",
   "mimetype": "text/x-python",
   "name": "python",
   "nbconvert_exporter": "python",
   "pygments_lexer": "ipython3",
   "version": "3.8.2"
  }
 },
 "nbformat": 4,
 "nbformat_minor": 4
}
